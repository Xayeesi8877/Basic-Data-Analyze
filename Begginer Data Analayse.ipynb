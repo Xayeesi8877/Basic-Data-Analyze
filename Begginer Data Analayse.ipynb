{
 "cells": [
  {
   "cell_type": "markdown",
   "id": "c5da93f0-7bc7-45da-ae5c-6b1e6f85ed43",
   "metadata": {},
   "source": [
    "## Importa Libraries"
   ]
  },
  {
   "cell_type": "code",
   "execution_count": 1,
   "id": "b47c5e00-7ee6-44e5-8fad-fc3d22f1dee2",
   "metadata": {},
   "outputs": [],
   "source": [
    "import pandas as pd\n",
    "import numpy as np"
   ]
  },
  {
   "cell_type": "markdown",
   "id": "54e76fff-c71b-4da5-a06b-cd10ec3ed785",
   "metadata": {},
   "source": [
    "## Basic Calculations"
   ]
  },
  {
   "cell_type": "code",
   "execution_count": 2,
   "id": "13bf2f7f-7589-4eb6-a99e-5f499b12776c",
   "metadata": {},
   "outputs": [],
   "source": [
    "a=5"
   ]
  },
  {
   "cell_type": "code",
   "execution_count": 3,
   "id": "dfab137b-835a-46a1-ac71-9084df3d8268",
   "metadata": {},
   "outputs": [
    {
     "data": {
      "text/plain": [
       "5"
      ]
     },
     "execution_count": 3,
     "metadata": {},
     "output_type": "execute_result"
    }
   ],
   "source": [
    "a"
   ]
  },
  {
   "cell_type": "code",
   "execution_count": 4,
   "id": "e2eab9dd-adec-4947-b0b5-692f2e47feb1",
   "metadata": {},
   "outputs": [],
   "source": [
    "b=4"
   ]
  },
  {
   "cell_type": "code",
   "execution_count": 5,
   "id": "f55b4da5-f556-4611-ad13-c017b1d9a1e5",
   "metadata": {},
   "outputs": [],
   "source": [
    "c=a*b"
   ]
  },
  {
   "cell_type": "code",
   "execution_count": 6,
   "id": "55ab554f-1f83-40f5-8e1b-41ab567c7f66",
   "metadata": {},
   "outputs": [
    {
     "data": {
      "text/plain": [
       "20"
      ]
     },
     "execution_count": 6,
     "metadata": {},
     "output_type": "execute_result"
    }
   ],
   "source": [
    "c"
   ]
  },
  {
   "cell_type": "markdown",
   "id": "20486a4f-d9f9-4407-937b-d7a78b8f929b",
   "metadata": {},
   "source": [
    "## Serious Numbers"
   ]
  },
  {
   "cell_type": "code",
   "execution_count": 9,
   "id": "9a80bd64-e99f-44ab-b8ee-94136e2818d9",
   "metadata": {},
   "outputs": [],
   "source": [
    "sd=pd.Series([14,15,16,17,18,19,20])"
   ]
  },
  {
   "cell_type": "code",
   "execution_count": 10,
   "id": "7f9b8d26-f5b1-4b4e-b0dd-853d2faacd0a",
   "metadata": {},
   "outputs": [
    {
     "data": {
      "text/plain": [
       "0    14\n",
       "1    15\n",
       "2    16\n",
       "3    17\n",
       "4    18\n",
       "5    19\n",
       "6    20\n",
       "dtype: int64"
      ]
     },
     "execution_count": 10,
     "metadata": {},
     "output_type": "execute_result"
    }
   ],
   "source": [
    "sd"
   ]
  },
  {
   "cell_type": "markdown",
   "id": "2e59f47f-4195-4749-835a-c78fbf6f22e0",
   "metadata": {},
   "source": [
    "## Basic Analayse Checking"
   ]
  },
  {
   "cell_type": "code",
   "execution_count": 12,
   "id": "17aff21d-c3bd-4c3a-9e9b-3487df507b44",
   "metadata": {},
   "outputs": [
    {
     "data": {
      "text/plain": [
       "(7,)"
      ]
     },
     "execution_count": 12,
     "metadata": {},
     "output_type": "execute_result"
    }
   ],
   "source": [
    "sd.shape"
   ]
  },
  {
   "cell_type": "code",
   "execution_count": 13,
   "id": "73d9e670-92f8-43a9-842e-4decd5a37bfd",
   "metadata": {},
   "outputs": [
    {
     "data": {
      "text/plain": [
       "0    14\n",
       "1    15\n",
       "2    16\n",
       "3    17\n",
       "4    18\n",
       "dtype: int64"
      ]
     },
     "execution_count": 13,
     "metadata": {},
     "output_type": "execute_result"
    }
   ],
   "source": [
    "sd.head()"
   ]
  },
  {
   "cell_type": "code",
   "execution_count": 14,
   "id": "9f43625c-f079-4eb8-a0e9-2a5d70760130",
   "metadata": {},
   "outputs": [
    {
     "data": {
      "text/plain": [
       "2    16\n",
       "3    17\n",
       "4    18\n",
       "5    19\n",
       "6    20\n",
       "dtype: int64"
      ]
     },
     "execution_count": 14,
     "metadata": {},
     "output_type": "execute_result"
    }
   ],
   "source": [
    "sd.tail()"
   ]
  },
  {
   "cell_type": "code",
   "execution_count": 15,
   "id": "1e9f47b1-f3a7-4914-bfc2-a792f5dd8c1d",
   "metadata": {},
   "outputs": [
    {
     "data": {
      "text/plain": [
       "count     7.000000\n",
       "mean     17.000000\n",
       "std       2.160247\n",
       "min      14.000000\n",
       "25%      15.500000\n",
       "50%      17.000000\n",
       "75%      18.500000\n",
       "max      20.000000\n",
       "dtype: float64"
      ]
     },
     "execution_count": 15,
     "metadata": {},
     "output_type": "execute_result"
    }
   ],
   "source": [
    "sd.describe()"
   ]
  },
  {
   "cell_type": "code",
   "execution_count": 16,
   "id": "f219a180-6f09-4967-965c-2d3ca164c4e6",
   "metadata": {},
   "outputs": [
    {
     "name": "stdout",
     "output_type": "stream",
     "text": [
      "<class 'pandas.core.series.Series'>\n",
      "RangeIndex: 7 entries, 0 to 6\n",
      "Series name: None\n",
      "Non-Null Count  Dtype\n",
      "--------------  -----\n",
      "7 non-null      int64\n",
      "dtypes: int64(1)\n",
      "memory usage: 188.0 bytes\n"
     ]
    }
   ],
   "source": [
    "sd.info()"
   ]
  },
  {
   "cell_type": "code",
   "execution_count": 17,
   "id": "e39b13e0-8422-4b3b-8dc5-ebe4e5842977",
   "metadata": {},
   "outputs": [
    {
     "data": {
      "text/plain": [
       "array([14, 15, 16, 17, 18, 19, 20], dtype=int64)"
      ]
     },
     "execution_count": 17,
     "metadata": {},
     "output_type": "execute_result"
    }
   ],
   "source": [
    "sd.values"
   ]
  },
  {
   "cell_type": "code",
   "execution_count": 19,
   "id": "c657360d-a55f-4993-9286-cde4df86b5a2",
   "metadata": {},
   "outputs": [
    {
     "data": {
      "text/plain": [
       "RangeIndex(start=0, stop=7, step=1)"
      ]
     },
     "execution_count": 19,
     "metadata": {},
     "output_type": "execute_result"
    }
   ],
   "source": [
    "sd.index"
   ]
  },
  {
   "cell_type": "code",
   "execution_count": 20,
   "id": "354af823-95c9-4cf6-9e8e-c5668080e979",
   "metadata": {},
   "outputs": [
    {
     "name": "stdout",
     "output_type": "stream",
     "text": [
      "Hello World\n"
     ]
    }
   ],
   "source": [
    "print('Hello World')"
   ]
  },
  {
   "cell_type": "code",
   "execution_count": 21,
   "id": "a7ebb40e-5fe1-4618-9bf7-41da801eceff",
   "metadata": {},
   "outputs": [
    {
     "name": "stdout",
     "output_type": "stream",
     "text": [
      "Print This is First Number 14\n"
     ]
    }
   ],
   "source": [
    "print('Print This is First Number', sd[0])"
   ]
  },
  {
   "cell_type": "code",
   "execution_count": 22,
   "id": "166142c8-3a7c-428e-b3e8-4fff303212a1",
   "metadata": {},
   "outputs": [
    {
     "name": "stdout",
     "output_type": "stream",
     "text": [
      "This is Second Number 15\n"
     ]
    }
   ],
   "source": [
    "print('This is Second Number', sd[1])"
   ]
  },
  {
   "cell_type": "code",
   "execution_count": 25,
   "id": "2827f9e5-5179-43dc-af13-d29b96c9c73d",
   "metadata": {},
   "outputs": [],
   "source": [
    "numbers = [1,2,3,4,5]"
   ]
  },
  {
   "cell_type": "code",
   "execution_count": 27,
   "id": "4557f75b-910a-4508-a829-8c18d95fd252",
   "metadata": {},
   "outputs": [],
   "source": [
    "numbers.append(6)"
   ]
  },
  {
   "cell_type": "code",
   "execution_count": 28,
   "id": "8f41e489-882c-4231-bdeb-cb834b1d0e46",
   "metadata": {},
   "outputs": [
    {
     "data": {
      "text/plain": [
       "[1, 2, 3, 4, 5, 6]"
      ]
     },
     "execution_count": 28,
     "metadata": {},
     "output_type": "execute_result"
    }
   ],
   "source": [
    "numbers"
   ]
  },
  {
   "cell_type": "code",
   "execution_count": 29,
   "id": "e15e8e6a-4fc2-4ceb-901a-e7d5f64ce9ca",
   "metadata": {},
   "outputs": [],
   "source": [
    "numbers.remove(5)"
   ]
  },
  {
   "cell_type": "code",
   "execution_count": 30,
   "id": "0521e25a-9422-4616-b5da-c6f1a197ca5f",
   "metadata": {},
   "outputs": [
    {
     "data": {
      "text/plain": [
       "[1, 2, 3, 4, 6]"
      ]
     },
     "execution_count": 30,
     "metadata": {},
     "output_type": "execute_result"
    }
   ],
   "source": [
    "numbers"
   ]
  },
  {
   "cell_type": "code",
   "execution_count": 31,
   "id": "210c40aa-ae05-4943-8d73-3d11908803ee",
   "metadata": {},
   "outputs": [],
   "source": [
    "name='Abdikadir Hussein Elmi'"
   ]
  },
  {
   "cell_type": "code",
   "execution_count": 32,
   "id": "e7c50b30-a685-486d-8ecf-3172410ef17f",
   "metadata": {},
   "outputs": [
    {
     "data": {
      "text/plain": [
       "'ABDIKADIR HUSSEIN ELMI'"
      ]
     },
     "execution_count": 32,
     "metadata": {},
     "output_type": "execute_result"
    }
   ],
   "source": [
    "name.upper()"
   ]
  },
  {
   "cell_type": "code",
   "execution_count": 33,
   "id": "374e7226-2fd9-4db8-aced-c613991dd76d",
   "metadata": {},
   "outputs": [
    {
     "data": {
      "text/plain": [
       "'Abdikadir Hussein Elmi'"
      ]
     },
     "execution_count": 33,
     "metadata": {},
     "output_type": "execute_result"
    }
   ],
   "source": [
    "name"
   ]
  },
  {
   "cell_type": "code",
   "execution_count": 34,
   "id": "63e040dd-15f9-43ce-a5ef-2d045627f07f",
   "metadata": {},
   "outputs": [
    {
     "data": {
      "text/plain": [
       "'abdikadir hussein elmi'"
      ]
     },
     "execution_count": 34,
     "metadata": {},
     "output_type": "execute_result"
    }
   ],
   "source": [
    "name.lower()"
   ]
  },
  {
   "cell_type": "markdown",
   "id": "4ec6ffca-03dd-425e-bb4d-fb739ce147cb",
   "metadata": {},
   "source": [
    "## Dictionary Data"
   ]
  },
  {
   "cell_type": "code",
   "execution_count": 35,
   "id": "2b46cb9b-579e-4f42-8c9f-4e9aa917e169",
   "metadata": {},
   "outputs": [],
   "source": [
    "data = {'Name':['Ali','Asho','Farah','Lul'],\n",
    "       'Age':[45,20,35,22],\n",
    "        'Married':['No','No','Yes','No'],\n",
    "        'Education Level':['Master','PhD','Bachelor','Master']\n",
    "       }"
   ]
  },
  {
   "cell_type": "code",
   "execution_count": 36,
   "id": "9a4fc9ce-e321-4ee0-9022-473a76025463",
   "metadata": {},
   "outputs": [
    {
     "data": {
      "text/plain": [
       "{'Name': ['Ali', 'Asho', 'Farah', 'Lul'],\n",
       " 'Age': [45, 20, 35, 22],\n",
       " 'Married': ['No', 'No', 'Yes', 'No'],\n",
       " 'Education Level': ['Master', 'PhD', 'Bachelor', 'Master']}"
      ]
     },
     "execution_count": 36,
     "metadata": {},
     "output_type": "execute_result"
    }
   ],
   "source": [
    "data"
   ]
  },
  {
   "cell_type": "code",
   "execution_count": 41,
   "id": "39c1567b-3578-4854-ab9d-cc50914e63ac",
   "metadata": {},
   "outputs": [],
   "source": [
    "df=pd.DataFrame(data,columns=['Name','Age','Married','Education Level'])"
   ]
  },
  {
   "cell_type": "code",
   "execution_count": 42,
   "id": "ced82c38-4e1c-47e0-9720-8905725caa7f",
   "metadata": {},
   "outputs": [
    {
     "data": {
      "text/html": [
       "<div>\n",
       "<style scoped>\n",
       "    .dataframe tbody tr th:only-of-type {\n",
       "        vertical-align: middle;\n",
       "    }\n",
       "\n",
       "    .dataframe tbody tr th {\n",
       "        vertical-align: top;\n",
       "    }\n",
       "\n",
       "    .dataframe thead th {\n",
       "        text-align: right;\n",
       "    }\n",
       "</style>\n",
       "<table border=\"1\" class=\"dataframe\">\n",
       "  <thead>\n",
       "    <tr style=\"text-align: right;\">\n",
       "      <th></th>\n",
       "      <th>Name</th>\n",
       "      <th>Age</th>\n",
       "      <th>Married</th>\n",
       "      <th>Education Level</th>\n",
       "    </tr>\n",
       "  </thead>\n",
       "  <tbody>\n",
       "    <tr>\n",
       "      <th>0</th>\n",
       "      <td>Ali</td>\n",
       "      <td>45</td>\n",
       "      <td>No</td>\n",
       "      <td>Master</td>\n",
       "    </tr>\n",
       "    <tr>\n",
       "      <th>1</th>\n",
       "      <td>Asho</td>\n",
       "      <td>20</td>\n",
       "      <td>No</td>\n",
       "      <td>PhD</td>\n",
       "    </tr>\n",
       "    <tr>\n",
       "      <th>2</th>\n",
       "      <td>Farah</td>\n",
       "      <td>35</td>\n",
       "      <td>Yes</td>\n",
       "      <td>Bachelor</td>\n",
       "    </tr>\n",
       "    <tr>\n",
       "      <th>3</th>\n",
       "      <td>Lul</td>\n",
       "      <td>22</td>\n",
       "      <td>No</td>\n",
       "      <td>Master</td>\n",
       "    </tr>\n",
       "  </tbody>\n",
       "</table>\n",
       "</div>"
      ],
      "text/plain": [
       "    Name  Age Married Education Level\n",
       "0    Ali   45      No          Master\n",
       "1   Asho   20      No             PhD\n",
       "2  Farah   35     Yes        Bachelor\n",
       "3    Lul   22      No          Master"
      ]
     },
     "execution_count": 42,
     "metadata": {},
     "output_type": "execute_result"
    }
   ],
   "source": [
    "df"
   ]
  },
  {
   "cell_type": "code",
   "execution_count": 43,
   "id": "d550afa8-9a9f-41e6-b24b-f01e63156ea8",
   "metadata": {},
   "outputs": [
    {
     "data": {
      "text/plain": [
       "(4, 4)"
      ]
     },
     "execution_count": 43,
     "metadata": {},
     "output_type": "execute_result"
    }
   ],
   "source": [
    "df.shape"
   ]
  },
  {
   "cell_type": "code",
   "execution_count": 44,
   "id": "c9c7b3b1-13c9-4297-a998-0b09e95d4514",
   "metadata": {},
   "outputs": [
    {
     "data": {
      "text/html": [
       "<div>\n",
       "<style scoped>\n",
       "    .dataframe tbody tr th:only-of-type {\n",
       "        vertical-align: middle;\n",
       "    }\n",
       "\n",
       "    .dataframe tbody tr th {\n",
       "        vertical-align: top;\n",
       "    }\n",
       "\n",
       "    .dataframe thead th {\n",
       "        text-align: right;\n",
       "    }\n",
       "</style>\n",
       "<table border=\"1\" class=\"dataframe\">\n",
       "  <thead>\n",
       "    <tr style=\"text-align: right;\">\n",
       "      <th></th>\n",
       "      <th>Name</th>\n",
       "      <th>Age</th>\n",
       "      <th>Married</th>\n",
       "      <th>Education Level</th>\n",
       "    </tr>\n",
       "  </thead>\n",
       "  <tbody>\n",
       "    <tr>\n",
       "      <th>0</th>\n",
       "      <td>Ali</td>\n",
       "      <td>45</td>\n",
       "      <td>No</td>\n",
       "      <td>Master</td>\n",
       "    </tr>\n",
       "    <tr>\n",
       "      <th>1</th>\n",
       "      <td>Asho</td>\n",
       "      <td>20</td>\n",
       "      <td>No</td>\n",
       "      <td>PhD</td>\n",
       "    </tr>\n",
       "    <tr>\n",
       "      <th>2</th>\n",
       "      <td>Farah</td>\n",
       "      <td>35</td>\n",
       "      <td>Yes</td>\n",
       "      <td>Bachelor</td>\n",
       "    </tr>\n",
       "    <tr>\n",
       "      <th>3</th>\n",
       "      <td>Lul</td>\n",
       "      <td>22</td>\n",
       "      <td>No</td>\n",
       "      <td>Master</td>\n",
       "    </tr>\n",
       "  </tbody>\n",
       "</table>\n",
       "</div>"
      ],
      "text/plain": [
       "    Name  Age Married Education Level\n",
       "0    Ali   45      No          Master\n",
       "1   Asho   20      No             PhD\n",
       "2  Farah   35     Yes        Bachelor\n",
       "3    Lul   22      No          Master"
      ]
     },
     "execution_count": 44,
     "metadata": {},
     "output_type": "execute_result"
    }
   ],
   "source": [
    "df.head()"
   ]
  },
  {
   "cell_type": "code",
   "execution_count": 45,
   "id": "895d655c-96d0-470c-856d-07c31accdd55",
   "metadata": {},
   "outputs": [
    {
     "data": {
      "text/html": [
       "<div>\n",
       "<style scoped>\n",
       "    .dataframe tbody tr th:only-of-type {\n",
       "        vertical-align: middle;\n",
       "    }\n",
       "\n",
       "    .dataframe tbody tr th {\n",
       "        vertical-align: top;\n",
       "    }\n",
       "\n",
       "    .dataframe thead th {\n",
       "        text-align: right;\n",
       "    }\n",
       "</style>\n",
       "<table border=\"1\" class=\"dataframe\">\n",
       "  <thead>\n",
       "    <tr style=\"text-align: right;\">\n",
       "      <th></th>\n",
       "      <th>Name</th>\n",
       "      <th>Age</th>\n",
       "      <th>Married</th>\n",
       "      <th>Education Level</th>\n",
       "    </tr>\n",
       "  </thead>\n",
       "  <tbody>\n",
       "    <tr>\n",
       "      <th>0</th>\n",
       "      <td>Ali</td>\n",
       "      <td>45</td>\n",
       "      <td>No</td>\n",
       "      <td>Master</td>\n",
       "    </tr>\n",
       "    <tr>\n",
       "      <th>1</th>\n",
       "      <td>Asho</td>\n",
       "      <td>20</td>\n",
       "      <td>No</td>\n",
       "      <td>PhD</td>\n",
       "    </tr>\n",
       "  </tbody>\n",
       "</table>\n",
       "</div>"
      ],
      "text/plain": [
       "   Name  Age Married Education Level\n",
       "0   Ali   45      No          Master\n",
       "1  Asho   20      No             PhD"
      ]
     },
     "execution_count": 45,
     "metadata": {},
     "output_type": "execute_result"
    }
   ],
   "source": [
    "df.head(2)"
   ]
  },
  {
   "cell_type": "code",
   "execution_count": 46,
   "id": "c9dc4809-0a08-4429-9764-e5b1f9a70cda",
   "metadata": {},
   "outputs": [
    {
     "data": {
      "text/html": [
       "<div>\n",
       "<style scoped>\n",
       "    .dataframe tbody tr th:only-of-type {\n",
       "        vertical-align: middle;\n",
       "    }\n",
       "\n",
       "    .dataframe tbody tr th {\n",
       "        vertical-align: top;\n",
       "    }\n",
       "\n",
       "    .dataframe thead th {\n",
       "        text-align: right;\n",
       "    }\n",
       "</style>\n",
       "<table border=\"1\" class=\"dataframe\">\n",
       "  <thead>\n",
       "    <tr style=\"text-align: right;\">\n",
       "      <th></th>\n",
       "      <th>Age</th>\n",
       "    </tr>\n",
       "  </thead>\n",
       "  <tbody>\n",
       "    <tr>\n",
       "      <th>count</th>\n",
       "      <td>4.000000</td>\n",
       "    </tr>\n",
       "    <tr>\n",
       "      <th>mean</th>\n",
       "      <td>30.500000</td>\n",
       "    </tr>\n",
       "    <tr>\n",
       "      <th>std</th>\n",
       "      <td>11.733144</td>\n",
       "    </tr>\n",
       "    <tr>\n",
       "      <th>min</th>\n",
       "      <td>20.000000</td>\n",
       "    </tr>\n",
       "    <tr>\n",
       "      <th>25%</th>\n",
       "      <td>21.500000</td>\n",
       "    </tr>\n",
       "    <tr>\n",
       "      <th>50%</th>\n",
       "      <td>28.500000</td>\n",
       "    </tr>\n",
       "    <tr>\n",
       "      <th>75%</th>\n",
       "      <td>37.500000</td>\n",
       "    </tr>\n",
       "    <tr>\n",
       "      <th>max</th>\n",
       "      <td>45.000000</td>\n",
       "    </tr>\n",
       "  </tbody>\n",
       "</table>\n",
       "</div>"
      ],
      "text/plain": [
       "             Age\n",
       "count   4.000000\n",
       "mean   30.500000\n",
       "std    11.733144\n",
       "min    20.000000\n",
       "25%    21.500000\n",
       "50%    28.500000\n",
       "75%    37.500000\n",
       "max    45.000000"
      ]
     },
     "execution_count": 46,
     "metadata": {},
     "output_type": "execute_result"
    }
   ],
   "source": [
    "df.describe()"
   ]
  },
  {
   "cell_type": "code",
   "execution_count": 47,
   "id": "c57b2373-b59f-421d-b548-e460df0f04bb",
   "metadata": {},
   "outputs": [
    {
     "data": {
      "text/plain": [
       "Index(['Name', 'Age', 'Married', 'Education Level'], dtype='object')"
      ]
     },
     "execution_count": 47,
     "metadata": {},
     "output_type": "execute_result"
    }
   ],
   "source": [
    "df.columns"
   ]
  },
  {
   "cell_type": "code",
   "execution_count": 48,
   "id": "553b7631-c28e-44c3-963e-3ae1ab4fc2b9",
   "metadata": {},
   "outputs": [
    {
     "name": "stdout",
     "output_type": "stream",
     "text": [
      "<class 'pandas.core.frame.DataFrame'>\n",
      "RangeIndex: 4 entries, 0 to 3\n",
      "Data columns (total 4 columns):\n",
      " #   Column           Non-Null Count  Dtype \n",
      "---  ------           --------------  ----- \n",
      " 0   Name             4 non-null      object\n",
      " 1   Age              4 non-null      int64 \n",
      " 2   Married          4 non-null      object\n",
      " 3   Education Level  4 non-null      object\n",
      "dtypes: int64(1), object(3)\n",
      "memory usage: 260.0+ bytes\n"
     ]
    }
   ],
   "source": [
    "df.info()"
   ]
  },
  {
   "cell_type": "markdown",
   "id": "ff077059-2111-4047-9456-937b4411bc19",
   "metadata": {},
   "source": [
    "## Add New Columns"
   ]
  },
  {
   "cell_type": "code",
   "execution_count": 49,
   "id": "52e5d8ff-c883-4d84-9d27-009d068dee0c",
   "metadata": {},
   "outputs": [],
   "source": [
    "df['Gender']=['Male','Female','Male','Female']"
   ]
  },
  {
   "cell_type": "code",
   "execution_count": 50,
   "id": "9ae13c3b-8549-4831-9cf9-c21860ff456f",
   "metadata": {},
   "outputs": [
    {
     "data": {
      "text/html": [
       "<div>\n",
       "<style scoped>\n",
       "    .dataframe tbody tr th:only-of-type {\n",
       "        vertical-align: middle;\n",
       "    }\n",
       "\n",
       "    .dataframe tbody tr th {\n",
       "        vertical-align: top;\n",
       "    }\n",
       "\n",
       "    .dataframe thead th {\n",
       "        text-align: right;\n",
       "    }\n",
       "</style>\n",
       "<table border=\"1\" class=\"dataframe\">\n",
       "  <thead>\n",
       "    <tr style=\"text-align: right;\">\n",
       "      <th></th>\n",
       "      <th>Name</th>\n",
       "      <th>Age</th>\n",
       "      <th>Married</th>\n",
       "      <th>Education Level</th>\n",
       "      <th>Gender</th>\n",
       "    </tr>\n",
       "  </thead>\n",
       "  <tbody>\n",
       "    <tr>\n",
       "      <th>0</th>\n",
       "      <td>Ali</td>\n",
       "      <td>45</td>\n",
       "      <td>No</td>\n",
       "      <td>Master</td>\n",
       "      <td>Male</td>\n",
       "    </tr>\n",
       "    <tr>\n",
       "      <th>1</th>\n",
       "      <td>Asho</td>\n",
       "      <td>20</td>\n",
       "      <td>No</td>\n",
       "      <td>PhD</td>\n",
       "      <td>Female</td>\n",
       "    </tr>\n",
       "    <tr>\n",
       "      <th>2</th>\n",
       "      <td>Farah</td>\n",
       "      <td>35</td>\n",
       "      <td>Yes</td>\n",
       "      <td>Bachelor</td>\n",
       "      <td>Male</td>\n",
       "    </tr>\n",
       "    <tr>\n",
       "      <th>3</th>\n",
       "      <td>Lul</td>\n",
       "      <td>22</td>\n",
       "      <td>No</td>\n",
       "      <td>Master</td>\n",
       "      <td>Female</td>\n",
       "    </tr>\n",
       "  </tbody>\n",
       "</table>\n",
       "</div>"
      ],
      "text/plain": [
       "    Name  Age Married Education Level  Gender\n",
       "0    Ali   45      No          Master    Male\n",
       "1   Asho   20      No             PhD  Female\n",
       "2  Farah   35     Yes        Bachelor    Male\n",
       "3    Lul   22      No          Master  Female"
      ]
     },
     "execution_count": 50,
     "metadata": {},
     "output_type": "execute_result"
    }
   ],
   "source": [
    "df"
   ]
  },
  {
   "cell_type": "markdown",
   "id": "7995931d-0417-4e85-bac0-2ce4b0d02996",
   "metadata": {},
   "source": [
    "## Delete Columns"
   ]
  },
  {
   "cell_type": "code",
   "execution_count": 51,
   "id": "8f557e23-fb5c-4db5-b171-37b3b90db771",
   "metadata": {},
   "outputs": [],
   "source": [
    "df.drop('Gender', axis=1,inplace=True)"
   ]
  },
  {
   "cell_type": "code",
   "execution_count": 52,
   "id": "fc20ed9d-99fc-4ffe-b150-2e474109a6d4",
   "metadata": {},
   "outputs": [
    {
     "data": {
      "text/html": [
       "<div>\n",
       "<style scoped>\n",
       "    .dataframe tbody tr th:only-of-type {\n",
       "        vertical-align: middle;\n",
       "    }\n",
       "\n",
       "    .dataframe tbody tr th {\n",
       "        vertical-align: top;\n",
       "    }\n",
       "\n",
       "    .dataframe thead th {\n",
       "        text-align: right;\n",
       "    }\n",
       "</style>\n",
       "<table border=\"1\" class=\"dataframe\">\n",
       "  <thead>\n",
       "    <tr style=\"text-align: right;\">\n",
       "      <th></th>\n",
       "      <th>Name</th>\n",
       "      <th>Age</th>\n",
       "      <th>Married</th>\n",
       "      <th>Education Level</th>\n",
       "    </tr>\n",
       "  </thead>\n",
       "  <tbody>\n",
       "    <tr>\n",
       "      <th>0</th>\n",
       "      <td>Ali</td>\n",
       "      <td>45</td>\n",
       "      <td>No</td>\n",
       "      <td>Master</td>\n",
       "    </tr>\n",
       "    <tr>\n",
       "      <th>1</th>\n",
       "      <td>Asho</td>\n",
       "      <td>20</td>\n",
       "      <td>No</td>\n",
       "      <td>PhD</td>\n",
       "    </tr>\n",
       "    <tr>\n",
       "      <th>2</th>\n",
       "      <td>Farah</td>\n",
       "      <td>35</td>\n",
       "      <td>Yes</td>\n",
       "      <td>Bachelor</td>\n",
       "    </tr>\n",
       "    <tr>\n",
       "      <th>3</th>\n",
       "      <td>Lul</td>\n",
       "      <td>22</td>\n",
       "      <td>No</td>\n",
       "      <td>Master</td>\n",
       "    </tr>\n",
       "  </tbody>\n",
       "</table>\n",
       "</div>"
      ],
      "text/plain": [
       "    Name  Age Married Education Level\n",
       "0    Ali   45      No          Master\n",
       "1   Asho   20      No             PhD\n",
       "2  Farah   35     Yes        Bachelor\n",
       "3    Lul   22      No          Master"
      ]
     },
     "execution_count": 52,
     "metadata": {},
     "output_type": "execute_result"
    }
   ],
   "source": [
    "df"
   ]
  },
  {
   "cell_type": "markdown",
   "id": "172ffab8-2fbb-4e35-b56d-1c5fdc9b0ee5",
   "metadata": {},
   "source": [
    "## Explarotary Data Analayse"
   ]
  },
  {
   "cell_type": "code",
   "execution_count": 54,
   "id": "93356285-b266-445d-9872-2e327c03f750",
   "metadata": {},
   "outputs": [
    {
     "data": {
      "image/png": "[encoded data removed]",
      "text/plain": [
       "<Figure size 1000x600 with 1 Axes>"
      ]
     },
     "metadata": {},
     "output_type": "display_data"
    }
   ],
   "source": [
    "import matplotlib.pyplot as plt\n",
    "\n",
    "plt.figure(figsize=(10, 6))\n",
    "plt.bar(df['Age'], df['Married'], color='skyblue')\n",
    "plt.xticks(rotation=45)\n",
    "plt.title('Population by Region in Somalia')\n",
    "plt.xlabel('Age')\n",
    "plt.ylabel('Married')\n",
    "plt.tight_layout()\n",
    "plt.show()"
   ]
  },
  {
   "cell_type": "markdown",
   "id": "fc07aec0-e051-47db-a59f-f078b912145d",
   "metadata": {},
   "source": [
    "## Age distribution bar chart"
   ]
  },
  {
   "cell_type": "code",
   "execution_count": 56,
   "id": "39df5036-23fb-45a3-98ed-2c20cd924e6f",
   "metadata": {},
   "outputs": [
    {
     "data": {
      "image/png": "[encoded data removed]",
      "text/plain": [
       "<Figure size 1000x600 with 1 Axes>"
      ]
     },
     "metadata": {},
     "output_type": "display_data"
    }
   ],
   "source": [
    "## Age distribution bar chart\n",
    "import seaborn as sns\n",
    "plt.figure(figsize=(10, 6))\n",
    "sns.barplot(x=\"Name\", y=\"Age\", data=df)\n",
    "plt.title(\"Age of Each Person\")\n",
    "plt.show()"
   ]
  },
  {
   "cell_type": "markdown",
   "id": "e51f5151-c49d-449b-822d-5c6822f2c045",
   "metadata": {},
   "source": [
    "## Marital status count"
   ]
  },
  {
   "cell_type": "code",
   "execution_count": 57,
   "id": "eebf0191-3ba1-4066-91a9-db29965eab37",
   "metadata": {},
   "outputs": [
    {
     "data": {
      "image/png": "[encoded data removed]",
      "text/plain": [
       "<Figure size 640x480 with 1 Axes>"
      ]
     },
     "metadata": {},
     "output_type": "display_data"
    }
   ],
   "source": [
    "sns.countplot(x=\"Married\", data=df)\n",
    "plt.title(\"Marital Status Distribution\")\n",
    "plt.show()"
   ]
  },
  {
   "cell_type": "markdown",
   "id": "feda3957-6879-4efa-822a-61d21c289eda",
   "metadata": {},
   "source": [
    "## Education Level count"
   ]
  },
  {
   "cell_type": "code",
   "execution_count": 58,
   "id": "43806c99-a2e0-467f-abd4-042685c8b6e8",
   "metadata": {},
   "outputs": [
    {
     "data": {
      "image/png": "[encoded data removed]",
      "text/plain": [
       "<Figure size 640x480 with 1 Axes>"
      ]
     },
     "metadata": {},
     "output_type": "display_data"
    }
   ],
   "source": [
    "sns.countplot(x=\"Education Level\", data=df)\n",
    "plt.title(\"Distribution of Education Levels\")\n",
    "plt.xticks(rotation=45)\n",
    "plt.show()"
   ]
  },
  {
   "cell_type": "markdown",
   "id": "932cd084-d253-4d33-b494-f5b31043b18b",
   "metadata": {},
   "source": [
    "## Boxplot of Age by Education Level"
   ]
  },
  {
   "cell_type": "code",
   "execution_count": 59,
   "id": "c07ee439-0cdb-49e5-8dd7-77a455e1bfca",
   "metadata": {},
   "outputs": [
    {
     "data": {
      "image/png": "[encoded data removed]",
      "text/plain": [
       "<Figure size 640x480 with 1 Axes>"
      ]
     },
     "metadata": {},
     "output_type": "display_data"
    }
   ],
   "source": [
    "\n",
    "sns.boxplot(x=\"Education Level\", y=\"Age\", data=df)\n",
    "plt.title(\"Age Distribution by Education Level\")\n",
    "plt.show()"
   ]
  },
  {
   "cell_type": "code",
   "execution_count": null,
   "id": "2322147e-1080-4444-b113-52a846696944",
   "metadata": {},
   "outputs": [],
   "source": [
    "END"
   ]
  }
 ],
 "metadata": {
  "kernelspec": {
   "display_name": "Python 3 (ipykernel)",
   "language": "python",
   "name": "python3"
  },
  "language_info": {
   "codemirror_mode": {
    "name": "ipython",
    "version": 3
   },
   "file_extension": ".py",
   "mimetype": "text/x-python",
   "name": "python",
   "nbconvert_exporter": "python",
   "pygments_lexer": "ipython3",
   "version": "3.12.3"
  }
 },
 "nbformat": 4,
 "nbformat_minor": 5
}
